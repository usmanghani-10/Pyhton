{
 "cells": [
  {
   "cell_type": "code",
   "execution_count": null,
   "metadata": {},
   "outputs": [],
   "source": [
    "def factorial(A):\n",
    "    if (A == 0 or A == 1):\n",
    "        return 1\n",
    "    else:\n",
    "        return A * factorial(A - 1)\n",
    "\n",
    "A = int(input(\"Enter a Number : \"))\n",
    "print(factorial(A))    "
   ]
  },
  {
   "cell_type": "code",
   "execution_count": null,
   "metadata": {},
   "outputs": [],
   "source": [
    "def fabonacci(B):\n",
    "    if B == 0:\n",
    "        return 0\n",
    "    elif B == 1:\n",
    "        return 1\n",
    "    else:\n",
    "        return fabonacci(B - 1) + fabonacci(B - 2)\n",
    "\n",
    "B = int(input(\"Enter a Number: \"))\n",
    "print(fabonacci(B))"
   ]
  }
 ],
 "metadata": {
  "kernelspec": {
   "display_name": "Python 3",
   "language": "python",
   "name": "python3"
  },
  "language_info": {
   "name": "python",
   "version": "3.12.3"
  }
 },
 "nbformat": 4,
 "nbformat_minor": 2
}
