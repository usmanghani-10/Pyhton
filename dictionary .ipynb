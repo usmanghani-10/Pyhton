{
 "cells": [
  {
   "cell_type": "code",
   "execution_count": 3,
   "metadata": {},
   "outputs": [
    {
     "name": "stdout",
     "output_type": "stream",
     "text": [
      "{131: 'Usman', 420: 'Muhammad', 2361: 'Ghani', 970: 'Danish'} {'Name': 'Usman', 'Age': 21, 'Adress': 'Charsadda', 'Universty': 'Islamia'}\n"
     ]
    }
   ],
   "source": [
    "A = {131:\"Usman\", 420:\"Muhammad\", 2361:\"Ghani\" , 970:\"Danish\"}\n",
    "B = {\"Name\" : \"Usman\", \"Age\" : 21, \"Adress\" : \"Charsadda\", \"Universty\" : \"Islamia\",}\n",
    "print (A , B)"
   ]
  },
  {
   "cell_type": "code",
   "execution_count": 11,
   "metadata": {},
   "outputs": [
    {
     "name": "stdout",
     "output_type": "stream",
     "text": [
      "dict_values(['Usman', 'Muhammad', 'Ghani', 'Danish'])\n",
      "dict_keys([131, 420, 2361, 970])\n",
      "dict_keys(['Name', 'Age', 'Adress', 'Universty'])\n",
      "dict_values(['Usman', 21, 'Charsadda', 'Islamia'])\n"
     ]
    }
   ],
   "source": [
    "print(A.values())\n",
    "print(A.keys())\n",
    "print(B.keys())\n",
    "print(B.values())\n"
   ]
  },
  {
   "cell_type": "code",
   "execution_count": 18,
   "metadata": {},
   "outputs": [
    {
     "name": "stdout",
     "output_type": "stream",
     "text": [
      "Usman is corresponding to 131\n",
      "Muhammad is corresponding to 420\n",
      "Ghani is corresponding to 2361\n",
      "Danish is corresponding to 970\n",
      "Usman is corresponding to Name\n",
      "21 is corresponding to Age\n",
      "Charsadda is corresponding to Adress\n",
      "Islamia is corresponding to Universty\n"
     ]
    }
   ],
   "source": [
    "for keys , values in A.items():\n",
    "    print (f\"{values} is corresponding to {keys}\")\n",
    "\n",
    "for keys , values in B.items():\n",
    "    print(f\"{values} is corresponding to {keys}\")"
   ]
  },
  {
   "cell_type": "code",
   "execution_count": 28,
   "metadata": {},
   "outputs": [
    {
     "name": "stdout",
     "output_type": "stream",
     "text": [
      "Muhammad\n",
      "21\n",
      "Charsadda\n",
      "None\n"
     ]
    }
   ],
   "source": [
    "print(A.get(420))\n",
    "print(B.get(\"Age\"))\n",
    "print(B.get(\"Adress\"))\n",
    "print(B.get(\"status\"))"
   ]
  },
  {
   "cell_type": "code",
   "execution_count": 30,
   "metadata": {},
   "outputs": [
    {
     "ename": "KeyError",
     "evalue": "'status'",
     "output_type": "error",
     "traceback": [
      "\u001b[1;31m---------------------------------------------------------------------------\u001b[0m",
      "\u001b[1;31mKeyError\u001b[0m                                  Traceback (most recent call last)",
      "Cell \u001b[1;32mIn[30], line 1\u001b[0m\n\u001b[1;32m----> 1\u001b[0m \u001b[38;5;28mprint\u001b[39m(\u001b[43mB\u001b[49m\u001b[43m[\u001b[49m\u001b[38;5;124;43m\"\u001b[39;49m\u001b[38;5;124;43mstatus\u001b[39;49m\u001b[38;5;124;43m\"\u001b[39;49m\u001b[43m]\u001b[49m)\n",
      "\u001b[1;31mKeyError\u001b[0m: 'status'"
     ]
    }
   ],
   "source": [
    "print(B[\"status\"])"
   ]
  },
  {
   "cell_type": "code",
   "execution_count": 32,
   "metadata": {},
   "outputs": [
    {
     "name": "stdout",
     "output_type": "stream",
     "text": [
      "{131: 'Usman', 420: 'Muhammad', 2361: 'Ghani', 970: 'Danish', 'Name': 'Usman', 'Age': 21, 'Adress': 'Charsadda', 'Universty': 'Islamia'}\n"
     ]
    }
   ],
   "source": [
    "A.update(B)\n",
    "print (A)"
   ]
  },
  {
   "cell_type": "code",
   "execution_count": 38,
   "metadata": {},
   "outputs": [
    {
     "name": "stdout",
     "output_type": "stream",
     "text": [
      "{'Name': 'Usman', 'Universty': 'Islamia'}\n"
     ]
    }
   ],
   "source": [
    "B.pop(\"Age\")\n",
    "print (B)"
   ]
  },
  {
   "cell_type": "code",
   "execution_count": 41,
   "metadata": {},
   "outputs": [
    {
     "name": "stdout",
     "output_type": "stream",
     "text": [
      "{}\n"
     ]
    }
   ],
   "source": [
    "B.clear()\n",
    "print(B)"
   ]
  },
  {
   "cell_type": "code",
   "execution_count": 42,
   "metadata": {},
   "outputs": [
    {
     "name": "stdout",
     "output_type": "stream",
     "text": [
      "{131: 'Usman', 420: 'Muhammad', 2361: 'Ghani', 970: 'Danish', 'Name': 'Usman', 'Age': 21, 'Adress': 'Charsadda'}\n"
     ]
    }
   ],
   "source": [
    "A.popitem()\n",
    "print(A)"
   ]
  },
  {
   "cell_type": "code",
   "execution_count": 43,
   "metadata": {},
   "outputs": [
    {
     "name": "stdout",
     "output_type": "stream",
     "text": [
      "{131: 'Usman', 420: 'Muhammad', 2361: 'Ghani', 970: 'Danish', 'Name': 'Usman', 'Age': 21}\n"
     ]
    }
   ],
   "source": [
    "del A[\"Adress\"]\n",
    "print (A)"
   ]
  },
  {
   "cell_type": "code",
   "execution_count": 44,
   "metadata": {},
   "outputs": [
    {
     "ename": "NameError",
     "evalue": "name 'A' is not defined",
     "output_type": "error",
     "traceback": [
      "\u001b[1;31m---------------------------------------------------------------------------\u001b[0m",
      "\u001b[1;31mNameError\u001b[0m                                 Traceback (most recent call last)",
      "Cell \u001b[1;32mIn[44], line 2\u001b[0m\n\u001b[0;32m      1\u001b[0m \u001b[38;5;28;01mdel\u001b[39;00m A\n\u001b[1;32m----> 2\u001b[0m \u001b[38;5;28mprint\u001b[39m (\u001b[43mA\u001b[49m)\n",
      "\u001b[1;31mNameError\u001b[0m: name 'A' is not defined"
     ]
    }
   ],
   "source": [
    "del A\n",
    "print (A)"
   ]
  },
  {
   "cell_type": "code",
   "execution_count": null,
   "metadata": {},
   "outputs": [],
   "source": []
  }
 ],
 "metadata": {
  "kernelspec": {
   "display_name": "Python 3",
   "language": "python",
   "name": "python3"
  },
  "language_info": {
   "codemirror_mode": {
    "name": "ipython",
    "version": 3
   },
   "file_extension": ".py",
   "mimetype": "text/x-python",
   "name": "python",
   "nbconvert_exporter": "python",
   "pygments_lexer": "ipython3",
   "version": "3.12.3"
  }
 },
 "nbformat": 4,
 "nbformat_minor": 2
}
