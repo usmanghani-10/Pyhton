{
 "cells": [
  {
   "cell_type": "markdown",
   "metadata": {},
   "source": [
    "Basic Arithmetic Opeations"
   ]
  },
  {
   "cell_type": "code",
   "execution_count": 3,
   "metadata": {},
   "outputs": [
    {
     "name": "stdout",
     "output_type": "stream",
     "text": [
      "Addition 30\n",
      "Product 200\n",
      "Divisio 0.5\n",
      "Difference -10\n",
      "Power 100000000000000000000\n",
      "Modulus 10\n",
      "rounded off division 0\n"
     ]
    }
   ],
   "source": [
    "\n",
    "a = 10\n",
    "b = 20\n",
    "print (\"Addition\",a + b)\n",
    "print (\"Product\",a * b)\n",
    "print (\"Divisio\",a / b)\n",
    "print (\"Difference\",a - b)\n",
    "print (\"Power\",a ** b)\n",
    "print (\"Modulus\", a % b)\n",
    "print (\"rounded off division\", a // b)"
   ]
  },
  {
   "cell_type": "markdown",
   "metadata": {},
   "source": [
    "String Operations"
   ]
  },
  {
   "cell_type": "code",
   "execution_count": 20,
   "metadata": {},
   "outputs": [
    {
     "name": "stdout",
     "output_type": "stream",
     "text": [
      "Length :  20\n",
      "Lower Case :  muhammad usman ghani\n",
      "Upper Case :  MUHAMMAD USMAN GHANI\n",
      "Splitting Name :  ['Muhammad', 'Usman', 'Ghani']\n",
      "Swapping Case  mUHAMMAD uSMAN gHANI\n"
     ]
    }
   ],
   "source": [
    "name = \"Muhammad Usman Ghani\"\n",
    "print (\"Length : \",len(name))\n",
    "print (\"Lower Case : \",name.lower())\n",
    "print (\"Upper Case : \",name.upper())\n",
    "print (\"Splitting Name : \",name.split())\n",
    "print (\"Swapping Case \",name.swapcase())"
   ]
  },
  {
   "cell_type": "code",
   "execution_count": null,
   "metadata": {},
   "outputs": [],
   "source": [
    "number = int(input(\"Emter a Number :\"))\n",
    "if (number % 2 == 0):\n",
    "    print(\"Even Number\")\n",
    "else :\n",
    "    print (\"Odd Number\")    "
   ]
  },
  {
   "cell_type": "code",
   "execution_count": null,
   "metadata": {},
   "outputs": [],
   "source": []
  }
 ],
 "metadata": {
  "kernelspec": {
   "display_name": "Python 3",
   "language": "python",
   "name": "python3"
  },
  "language_info": {
   "codemirror_mode": {
    "name": "ipython",
    "version": 3
   },
   "file_extension": ".py",
   "mimetype": "text/x-python",
   "name": "python",
   "nbconvert_exporter": "python",
   "pygments_lexer": "ipython3",
   "version": "3.12.3"
  }
 },
 "nbformat": 4,
 "nbformat_minor": 2
}
