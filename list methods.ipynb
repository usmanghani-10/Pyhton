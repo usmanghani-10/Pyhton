{
 "cells": [
  {
   "cell_type": "code",
   "execution_count": 17,
   "metadata": {},
   "outputs": [
    {
     "name": "stdout",
     "output_type": "stream",
     "text": [
      "By append the item is added in last of list :  [1, 2, 3, 4, 5, 7, 10, 'Muhammad', 'Usman', 'Ghani', 2]\n"
     ]
    }
   ],
   "source": [
    "A = [1,2,3,4,5,7,10,\"Muhammad\",\"Usman\",\"Ghani\"]\n",
    "B = [2,44,53,63,12,43,23,65,72,92,109,21,37,19,27,30]\n",
    "A.append(2)\n",
    "print(\"By append the item is added in last of list : \",A)"
   ]
  },
  {
   "cell_type": "code",
   "execution_count": 15,
   "metadata": {},
   "outputs": [
    {
     "name": "stdout",
     "output_type": "stream",
     "text": [
      "By sort function the list is sorted ascendingly :  [2, 12, 19, 21, 23, 27, 30, 37, 43, 44, 53, 63, 65, 72, 92, 109]\n",
      "By sort reverse it is sorted descendingly :  [109, 92, 72, 65, 63, 53, 44, 43, 37, 30, 27, 23, 21, 19, 12, 2]\n"
     ]
    }
   ],
   "source": [
    "B.sort()\n",
    "print(\"By sort function the list is sorted ascendingly : \",B)\n",
    "B.sort(reverse=True)\n",
    "print(\"By sort reverse it is sorted descendingly : \",B)"
   ]
  },
  {
   "cell_type": "code",
   "execution_count": 16,
   "metadata": {},
   "outputs": [
    {
     "name": "stdout",
     "output_type": "stream",
     "text": [
      "In the last of A , B is added :  [1, 2, 3, 4, 5, 7, 10, 'Muhammad', 'Usman', 'Ghani', 2, 109, 92, 72, 65, 63, 53, 44, 43, 37, 30, 27, 23, 21, 19, 12, 2, 109, 92, 72, 65, 63, 53, 44, 43, 37, 30, 27, 23, 21, 19, 12, 2]\n"
     ]
    }
   ],
   "source": [
    "A.extend(B)\n",
    "print(\"In the last of A , B is added : \",A)"
   ]
  },
  {
   "cell_type": "code",
   "execution_count": 20,
   "metadata": {},
   "outputs": [
    {
     "name": "stdout",
     "output_type": "stream",
     "text": [
      "[1, 'Messi', 3, 4, 5, 7, 10, 'Muhammad', 'Usman', 'Ghani', 2]\n"
     ]
    }
   ],
   "source": [
    "C = A.copy()\n",
    "C[1] = \"Messi\"\n",
    "print (C)"
   ]
  },
  {
   "cell_type": "code",
   "execution_count": 24,
   "metadata": {},
   "outputs": [
    {
     "name": "stdout",
     "output_type": "stream",
     "text": [
      "[1, 2, 3, 'Cristiano', 'Cristiano', 'Cristiano', 4, 5, 7, 10, 'Muhammad', 'Usman', 'Ghani', 2]\n"
     ]
    }
   ],
   "source": [
    "A.insert(3,\"Cristiano\")\n",
    "print (A)"
   ]
  },
  {
   "cell_type": "code",
   "execution_count": 25,
   "metadata": {},
   "outputs": [
    {
     "name": "stdout",
     "output_type": "stream",
     "text": [
      "[1, 2, 3, 'Cristiano', 'Cristiano', 'Cristiano', 4, 5, 7, 10, 'Muhammad', 'Usman', 'Ghani', 2, 2, 44, 53, 63, 12, 43, 23, 65, 72, 92, 109, 21, 37, 19, 27, 30]\n"
     ]
    }
   ],
   "source": [
    "D = A + B\n",
    "print(D)"
   ]
  },
  {
   "cell_type": "code",
   "execution_count": 29,
   "metadata": {},
   "outputs": [
    {
     "name": "stdout",
     "output_type": "stream",
     "text": [
      "3\n"
     ]
    }
   ],
   "source": [
    "print(A.count(\"Cristiano\"))"
   ]
  },
  {
   "cell_type": "code",
   "execution_count": null,
   "metadata": {},
   "outputs": [],
   "source": []
  }
 ],
 "metadata": {
  "kernelspec": {
   "display_name": "Python 3",
   "language": "python",
   "name": "python3"
  },
  "language_info": {
   "codemirror_mode": {
    "name": "ipython",
    "version": 3
   },
   "file_extension": ".py",
   "mimetype": "text/x-python",
   "name": "python",
   "nbconvert_exporter": "python",
   "pygments_lexer": "ipython3",
   "version": "3.12.3"
  }
 },
 "nbformat": 4,
 "nbformat_minor": 2
}
